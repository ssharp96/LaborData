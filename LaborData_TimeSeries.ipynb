{
 "cells": [
  {
   "cell_type": "code",
   "execution_count": 13,
   "metadata": {
    "collapsed": true
   },
   "outputs": [],
   "source": [
    "import pandas as pd\n",
    "import os\n",
    "import numpy as np"
   ]
  },
  {
   "cell_type": "code",
   "execution_count": 3,
   "metadata": {
    "collapsed": true
   },
   "outputs": [],
   "source": [
    "os.chdir('/Users/simonsharp/Desktop/LaborData/opm-federal-employment-data/data/2014-09-to-2016-09/non-dod/status')"
   ]
  },
  {
   "cell_type": "code",
   "execution_count": 8,
   "metadata": {},
   "outputs": [],
   "source": [
    "df1 = pd.read_csv(\"Non_DoD_201409.txt\", sep = \"|\", low_memory = False, header = None)"
   ]
  },
  {
   "cell_type": "code",
   "execution_count": 28,
   "metadata": {},
   "outputs": [
    {
     "name": "stdout",
     "output_type": "stream",
     "text": [
      "<class 'pandas.core.frame.DataFrame'>\n",
      "RangeIndex: 1325109 entries, 0 to 1325108\n",
      "Data columns (total 19 columns):\n",
      "LastName                1325074 non-null object\n",
      "FirstName               1325104 non-null object\n",
      "Date                    1325109 non-null int64\n",
      "Agency                  1325109 non-null object\n",
      "SubAgency               1325109 non-null object\n",
      "State                   1325109 non-null object\n",
      "AgeRange                1325109 non-null object\n",
      "YearsSinceDegree        1325109 non-null object\n",
      "EducationLevel          1325109 non-null object\n",
      "PayPlan                 1323199 non-null object\n",
      "Grade                   1325109 non-null object\n",
      "LengthOfServiceLevel    1325109 non-null object\n",
      "Occupation              1325109 non-null object\n",
      "OccupationalCategory    1325109 non-null object\n",
      "AdjustedBasicPay        1325109 non-null object\n",
      "Supervisor              1325109 non-null object\n",
      "TypeOfAppointment       1325109 non-null object\n",
      "WorkSchedule            1325109 non-null object\n",
      "NSFTPIndicator          1325109 non-null int64\n",
      "dtypes: int64(2), object(17)\n",
      "memory usage: 192.1+ MB\n"
     ]
    }
   ],
   "source": [
    "df1.columns=['LastName', 'FirstName', 'Date', 'Agency', 'SubAgency', 'State', 'AgeRange', 'YearsSinceDegree', 'EducationLevel', 'PayPlan', 'Grade', 'LengthOfServiceLevel', 'Occupation', 'OccupationalCategory', 'AdjustedBasicPay', 'Supervisor', 'TypeOfAppointment', 'WorkSchedule', 'NSFTPIndicator']\n",
    "df1.info()"
   ]
  },
  {
   "cell_type": "code",
   "execution_count": 30,
   "metadata": {},
   "outputs": [
    {
     "name": "stdout",
     "output_type": "stream",
     "text": [
      "<class 'pandas.core.frame.DataFrame'>\n",
      "Int64Index: 815431 entries, 0 to 1325108\n",
      "Data columns (total 19 columns):\n",
      "LastName                815398 non-null object\n",
      "FirstName               815427 non-null object\n",
      "Date                    815431 non-null int64\n",
      "Agency                  815431 non-null object\n",
      "SubAgency               815431 non-null object\n",
      "State                   815431 non-null object\n",
      "AgeRange                815431 non-null object\n",
      "YearsSinceDegree        815431 non-null object\n",
      "EducationLevel          815431 non-null object\n",
      "PayPlan                 813880 non-null object\n",
      "Grade                   815431 non-null object\n",
      "LengthOfServiceLevel    815431 non-null object\n",
      "Occupation              815431 non-null object\n",
      "OccupationalCategory    815431 non-null object\n",
      "AdjustedBasicPay        815431 non-null object\n",
      "Supervisor              815431 non-null object\n",
      "TypeOfAppointment       815431 non-null object\n",
      "WorkSchedule            815431 non-null object\n",
      "NSFTPIndicator          815431 non-null int64\n",
      "dtypes: int64(2), object(17)\n",
      "memory usage: 124.4+ MB\n"
     ]
    }
   ],
   "source": [
    "df1 = df1.drop_duplicates(['LastName', 'FirstName'])\n",
    "df1.info()"
   ]
  },
  {
   "cell_type": "code",
   "execution_count": 29,
   "metadata": {},
   "outputs": [
    {
     "data": {
      "text/html": [
       "<div>\n",
       "<style>\n",
       "    .dataframe thead tr:only-child th {\n",
       "        text-align: right;\n",
       "    }\n",
       "\n",
       "    .dataframe thead th {\n",
       "        text-align: left;\n",
       "    }\n",
       "\n",
       "    .dataframe tbody tr th {\n",
       "        vertical-align: top;\n",
       "    }\n",
       "</style>\n",
       "<table border=\"1\" class=\"dataframe\">\n",
       "  <thead>\n",
       "    <tr style=\"text-align: right;\">\n",
       "      <th></th>\n",
       "      <th>A</th>\n",
       "      <th>B</th>\n",
       "      <th>C</th>\n",
       "      <th>D</th>\n",
       "      <th>E</th>\n",
       "      <th>F</th>\n",
       "    </tr>\n",
       "  </thead>\n",
       "  <tbody>\n",
       "    <tr>\n",
       "      <th>0</th>\n",
       "      <td>A</td>\n",
       "      <td>foo</td>\n",
       "      <td>1.0</td>\n",
       "      <td>3</td>\n",
       "      <td>test</td>\n",
       "      <td>2013-01-02</td>\n",
       "    </tr>\n",
       "    <tr>\n",
       "      <th>1</th>\n",
       "      <td>B</td>\n",
       "      <td>foo</td>\n",
       "      <td>1.0</td>\n",
       "      <td>3</td>\n",
       "      <td>train</td>\n",
       "      <td>2013-01-02</td>\n",
       "    </tr>\n",
       "    <tr>\n",
       "      <th>2</th>\n",
       "      <td>C</td>\n",
       "      <td>foo</td>\n",
       "      <td>1.0</td>\n",
       "      <td>3</td>\n",
       "      <td>test</td>\n",
       "      <td>2013-01-02</td>\n",
       "    </tr>\n",
       "    <tr>\n",
       "      <th>3</th>\n",
       "      <td>D</td>\n",
       "      <td>foo</td>\n",
       "      <td>1.0</td>\n",
       "      <td>3</td>\n",
       "      <td>train</td>\n",
       "      <td>2013-01-02</td>\n",
       "    </tr>\n",
       "    <tr>\n",
       "      <th>4</th>\n",
       "      <td>E</td>\n",
       "      <td>foo</td>\n",
       "      <td>1.0</td>\n",
       "      <td>3</td>\n",
       "      <td>test</td>\n",
       "      <td>2013-01-02</td>\n",
       "    </tr>\n",
       "    <tr>\n",
       "      <th>5</th>\n",
       "      <td>F</td>\n",
       "      <td>foo</td>\n",
       "      <td>1.0</td>\n",
       "      <td>3</td>\n",
       "      <td>train</td>\n",
       "      <td>2013-01-02</td>\n",
       "    </tr>\n",
       "    <tr>\n",
       "      <th>6</th>\n",
       "      <td>G</td>\n",
       "      <td>foo</td>\n",
       "      <td>1.0</td>\n",
       "      <td>3</td>\n",
       "      <td>test</td>\n",
       "      <td>2013-01-02</td>\n",
       "    </tr>\n",
       "    <tr>\n",
       "      <th>7</th>\n",
       "      <td>H</td>\n",
       "      <td>foo</td>\n",
       "      <td>1.0</td>\n",
       "      <td>3</td>\n",
       "      <td>train</td>\n",
       "      <td>2013-01-02</td>\n",
       "    </tr>\n",
       "    <tr>\n",
       "      <th>9</th>\n",
       "      <td>F</td>\n",
       "      <td>bar</td>\n",
       "      <td>1.0</td>\n",
       "      <td>3</td>\n",
       "      <td>train</td>\n",
       "      <td>2013-01-02</td>\n",
       "    </tr>\n",
       "  </tbody>\n",
       "</table>\n",
       "</div>"
      ],
      "text/plain": [
       "   A    B    C  D      E          F\n",
       "0  A  foo  1.0  3   test 2013-01-02\n",
       "1  B  foo  1.0  3  train 2013-01-02\n",
       "2  C  foo  1.0  3   test 2013-01-02\n",
       "3  D  foo  1.0  3  train 2013-01-02\n",
       "4  E  foo  1.0  3   test 2013-01-02\n",
       "5  F  foo  1.0  3  train 2013-01-02\n",
       "6  G  foo  1.0  3   test 2013-01-02\n",
       "7  H  foo  1.0  3  train 2013-01-02\n",
       "9  F  bar  1.0  3  train 2013-01-02"
      ]
     },
     "execution_count": 29,
     "metadata": {},
     "output_type": "execute_result"
    }
   ],
   "source": [
    "df2 = pd.DataFrame({ 'A' : ['A','B','C','D','E','F','G','H','E','F'],\n",
    "                     'B' : ['foo', 'foo', 'foo', 'foo', 'foo', 'foo', 'foo', 'foo', 'foo', 'bar'],\n",
    "                     'C' : pd.Series(1,index=list(range(10)),dtype='float32'),\n",
    "                     'D' : np.array([3] * 10,dtype='int32'),\n",
    "                     'E' : pd.Categorical([\"test\",\"train\",\"test\",\"train\",\"test\",\"train\",\"test\",\"train\",\"test\",\"train\"]),\n",
    "                     'F' : pd.Timestamp('20130102') })\n",
    "df2.head(20)\n",
    "df3 = df2.drop_duplicates(['A', 'B'])\n",
    "df3.head(20)"
   ]
  },
  {
   "cell_type": "code",
   "execution_count": null,
   "metadata": {
    "collapsed": true
   },
   "outputs": [],
   "source": []
  }
 ],
 "metadata": {
  "kernelspec": {
   "display_name": "Python 2",
   "language": "python",
   "name": "python2"
  },
  "language_info": {
   "codemirror_mode": {
    "name": "ipython",
    "version": 2
   },
   "file_extension": ".py",
   "mimetype": "text/x-python",
   "name": "python",
   "nbconvert_exporter": "python",
   "pygments_lexer": "ipython2",
   "version": "2.7.13"
  }
 },
 "nbformat": 4,
 "nbformat_minor": 2
}
